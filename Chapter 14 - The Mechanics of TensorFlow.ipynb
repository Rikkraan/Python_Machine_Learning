{
 "cells": [
  {
   "cell_type": "markdown",
   "metadata": {},
   "source": [
    "# Chapter 14 - The Mechanics of TensorFlor"
   ]
  },
  {
   "cell_type": "markdown",
   "metadata": {},
   "source": [
    "A Key feature of TF is that we can work with GPUs. It also supports mobile deployment, which makes it a very suitable tool for production.\n",
    "\n",
    "The following examples example illustrates how to retrieve the rank ans shape of tensor objects."
   ]
  },
  {
   "cell_type": "code",
   "execution_count": 3,
   "metadata": {},
   "outputs": [
    {
     "name": "stdout",
     "output_type": "stream",
     "text": [
      "Shapes: () (4,) (2, 2)\n"
     ]
    }
   ],
   "source": [
    "import tensorflow as tf\n",
    "import numpy as np\n",
    "\n",
    "g = tf.Graph()\n",
    "\n",
    "## define the computation graph\n",
    "with g.as_default():\n",
    "    \n",
    "    # define tensors t1, t2, t3\n",
    "    t1 = tf.constant(np.pi)\n",
    "    t2 = tf.constant([1,2,3,4])\n",
    "    t3 = tf.constant([[1,2], [3,4]])\n",
    "    \n",
    "    # get their ranks\n",
    "    r1 = tf.rank(t1)\n",
    "    r2 = tf.rank(t2)\n",
    "    r3 = tf.rank(t3)\n",
    "    \n",
    "    #get their shapes\n",
    "    s1 = t1.get_shape()\n",
    "    s2 = t2.get_shape()\n",
    "    s3 = t3.get_shape()\n",
    "    print('Shapes:', s1, s2, s3)"
   ]
  },
  {
   "cell_type": "code",
   "execution_count": 4,
   "metadata": {},
   "outputs": [
    {
     "name": "stdout",
     "output_type": "stream",
     "text": [
      "Ranks: 0 1 2\n"
     ]
    }
   ],
   "source": [
    "#Shapes can only be retrieved in an eactive session (by evaluating the tensors)\n",
    "with tf.Session(graph = g) as sess:\n",
    "    print(\"Ranks:\",\n",
    "         r1.eval(),\n",
    "         r2.eval(),\n",
    "         r3.eval())"
   ]
  },
  {
   "cell_type": "markdown",
   "metadata": {},
   "source": [
    "### Computation graphs\n",
    "\n",
    "Computation graphs are the basis of TensorFlow, the steps of TF are as follows:\n",
    "* 1) Instantiate a new, empty computation graph\n",
    "* 2) Add nodes (tensors and operations) to the computation graph\n",
    "* 3) Execute the graph\n",
    "    * a) Start a new session\n",
    "    * b) Initialize the variables in the graph\n",
    "    * c) Run the computation graph in this session\n",
    "\n",
    "\n",
    "It is possible to evaluate a individual tensor by calling the eval() method, providing that all placeholders that are necessary to reach that tensor are provided.\n",
    "Similarly, .run() can be used to execute operations that do not have any return types. or tf.Session().run() to run both tensors and operators, which will return a list or tuple of the same size."
   ]
  },
  {
   "cell_type": "code",
   "execution_count": 6,
   "metadata": {},
   "outputs": [
    {
     "name": "stdout",
     "output_type": "stream",
     "text": [
      "2*(a-b) + c => 1\n"
     ]
    }
   ],
   "source": [
    "g = tf.Graph()\n",
    "\n",
    "with g.as_default():\n",
    "    a = tf.constant(1, name = 'a')\n",
    "    b = tf.constant(2, name = 'b')\n",
    "    c = tf.constant(3, name = 'c')\n",
    "    \n",
    "    z = 2*(a-b) + c\n",
    "    \n",
    "with tf.Session(graph=g) as sess:\n",
    "    print('2*(a-b) + c =>', sess.run(z))"
   ]
  },
  {
   "cell_type": "markdown",
   "metadata": {},
   "source": [
    "### Placeholders\n",
    "\n",
    "As seen above, a constant can be feed to the computation graph. However, if the values have to be put in later, we can use placeholders to create shape and type of the data that will be feed trough the computation graph on later time.\n",
    "\n",
    "We will create placeholders and tensors to compute the same above\n",
    " "
   ]
  },
  {
   "cell_type": "code",
   "execution_count": 11,
   "metadata": {},
   "outputs": [],
   "source": [
    "import tensorflow as tf\n",
    "\n",
    "g = tf.Graph()\n",
    "\n",
    "with g.as_default():\n",
    "    tf_a = tf.placeholder(tf.int32, shape = [],\n",
    "                         name = 'tf_a')\n",
    "    tf_b = tf.placeholder(tf.int32, shape = [],\n",
    "                         name = 'tf_b')\n",
    "    tf_c = tf.placeholder(tf.int32, shape = [],\n",
    "                         name = 'tf_c')\n",
    "    \n",
    "    r1 = tf_a-tf_b\n",
    "    r2 = 2 * r1\n",
    "    z = r2 + tf_c"
   ]
  },
  {
   "cell_type": "code",
   "execution_count": 12,
   "metadata": {},
   "outputs": [
    {
     "name": "stdout",
     "output_type": "stream",
     "text": [
      "z: 1\n"
     ]
    }
   ],
   "source": [
    "with tf.Session(graph = g) as sess:\n",
    "    feed = {tf_a : 1,\n",
    "           tf_b : 2,\n",
    "           tf_c : 3}\n",
    "    print('z:', sess.run(z, feed_dict = feed))"
   ]
  },
  {
   "cell_type": "markdown",
   "metadata": {},
   "source": [
    "#### Placeholders for data arrays with varying batchsizes\n",
    "\n",
    "If we do not know beforehand the shape of a structure, we can doe as follows;"
   ]
  },
  {
   "cell_type": "code",
   "execution_count": 13,
   "metadata": {},
   "outputs": [],
   "source": [
    "import tensorflow as tf\n",
    "\n",
    "g = tf.Graph()\n",
    "\n",
    "with g.as_default():\n",
    "    tf_x = tf.placeholder(tf.float32,\n",
    "                         shape =[None, 2], #Set shape on the first dimension to None\n",
    "                         name = 'tf_x')\n",
    "    \n",
    "    x_mean = tf.reduce_mean(tf_x,\n",
    "                           axis = 0,\n",
    "                           name = 'mean')"
   ]
  },
  {
   "cell_type": "code",
   "execution_count": 15,
   "metadata": {},
   "outputs": [
    {
     "name": "stdout",
     "output_type": "stream",
     "text": [
      "Feeding data with shape  (5, 2)\n",
      "Results: [0.62 0.47]\n",
      "Feeding data with shape  (10, 2)\n",
      "Results [0.46 0.49]\n"
     ]
    }
   ],
   "source": [
    "import numpy as np\n",
    "np.random.seed(123)\n",
    "np.set_printoptions(precision = 2)\n",
    "\n",
    "with tf.Session(graph = g) as sess:\n",
    "    x1 = np.random.uniform(low=0, high = 1, size =(5,2))\n",
    "    \n",
    "    print('Feeding data with shape ', x1.shape)\n",
    "    print('Results:', sess.run(x_mean, feed_dict = {tf_x : x1}))\n",
    "    \n",
    "    x2 = np.random.uniform(low = 0, high = 1, size = (10,2))\n",
    "    \n",
    "    print('Feeding data with shape ', x2.shape)\n",
    "    print('Results', sess.run(x_mean, feed_dict = {tf_x : x2}))\n",
    "    "
   ]
  },
  {
   "cell_type": "code",
   "execution_count": 17,
   "metadata": {},
   "outputs": [
    {
     "name": "stdout",
     "output_type": "stream",
     "text": [
      "Tensor(\"tf_x:0\", shape=(?, 2), dtype=float32)\n"
     ]
    }
   ],
   "source": [
    "print(tf_x) #Check shape --> First dimension is unknown/None"
   ]
  },
  {
   "cell_type": "markdown",
   "metadata": {},
   "source": [
    "## Tensorflow variables\n",
    "\n",
    "Variables can be used to store parameters of a model that can be updated during training. Variables have to be initialized with a tensor of values. Defining variables can be done in two ways:\n",
    "* tf.Variable(<initial-values>, name = 'variable name); class that creates object for new variable, shape and dtype are set to the same as those of the initial values.\n",
    "* tf.get_variable(name, ...); can be used to reuse an existing variable with a given name that exists in the graph, or sets a new variable if name is not yet occupied.\n",
    "\n",
    "The last method has several advantages; it allows to reuse variables and uses the popular Xavier/Glorot initializion scheme. It also provides other parameters to control the tensor (suc as adding a regularizer).\n",
    "\\\n",
    "It is important to realize that the initial values are not set until we launceh the graph in tf.Session and explicitly run the initializer operator. The required memory for a graph is not allocated until we initialize the variables in a TF session.\n",
    "\n"
   ]
  },
  {
   "cell_type": "code",
   "execution_count": 18,
   "metadata": {},
   "outputs": [
    {
     "name": "stdout",
     "output_type": "stream",
     "text": [
      "WARNING:tensorflow:From C:\\Users\\rikkr\\Anaconda3\\lib\\site-packages\\tensorflow\\python\\framework\\op_def_library.py:263: colocate_with (from tensorflow.python.framework.ops) is deprecated and will be removed in a future version.\n",
      "Instructions for updating:\n",
      "Colocations handled automatically by placer.\n",
      "<tf.Variable 'w:0' shape=(2, 4) dtype=int32_ref>\n"
     ]
    }
   ],
   "source": [
    "import tensorflow as tf\n",
    "import numpy as np\n",
    "\n",
    "g1 = tf.Graph()\n",
    "\n",
    "with g1.as_default():\n",
    "    w = tf.Variable(np.array([[1,2,3,4], [5,6,7,8]]), name = 'w') #detype is automaticaly inferred from the np array input\n",
    "    \n",
    "    print(w)"
   ]
  },
  {
   "cell_type": "markdown",
   "metadata": {},
   "source": [
    "### Initializing variables\n",
    "\n",
    "Variables must be initialized, otherwise the code cannot be executed -> use tf.global_cariables_initializer()"
   ]
  },
  {
   "cell_type": "code",
   "execution_count": 19,
   "metadata": {},
   "outputs": [
    {
     "name": "stdout",
     "output_type": "stream",
     "text": [
      "[[1 2 3 4]\n",
      " [5 6 7 8]]\n"
     ]
    }
   ],
   "source": [
    "with tf.Session(graph = g1) as sess:\n",
    "    sess.run(tf.global_variables_initializer())\n",
    "    print(sess.run(w))"
   ]
  },
  {
   "cell_type": "markdown",
   "metadata": {},
   "source": [
    "We can also run the tf.global_variables_initializer as object by:\n",
    "init_op = tf.global_variables_initializer()\n",
    "sess.run(init_op) or/ init_op.run()\n",
    "\n",
    "be careful to set the object after all variables are defined."
   ]
  },
  {
   "cell_type": "code",
   "execution_count": 23,
   "metadata": {},
   "outputs": [],
   "source": [
    "import tensorflow as tf\n",
    "\n",
    "g2 = tf.Graph()\n",
    "\n",
    "with g2.as_default():\n",
    "    w1 = tf.Variable(1, name = 'w1')\n",
    "    init_op = tf.global_variables_initializer()\n",
    "    w2 = tf.Variable(2, name = 'w2')"
   ]
  },
  {
   "cell_type": "code",
   "execution_count": 24,
   "metadata": {},
   "outputs": [
    {
     "name": "stdout",
     "output_type": "stream",
     "text": [
      "w1: 1\n"
     ]
    }
   ],
   "source": [
    "with tf.Session(graph = g2) as sess:\n",
    "    sess.run(init_op)\n",
    "    print('w1:', sess.run(w1))"
   ]
  },
  {
   "cell_type": "code",
   "execution_count": 25,
   "metadata": {},
   "outputs": [
    {
     "ename": "FailedPreconditionError",
     "evalue": "Attempting to use uninitialized value w2\n\t [[{{node _retval_w2_0_0}}]]",
     "output_type": "error",
     "traceback": [
      "\u001b[1;31m---------------------------------------------------------------------------\u001b[0m",
      "\u001b[1;31mFailedPreconditionError\u001b[0m                   Traceback (most recent call last)",
      "\u001b[1;32m~\\Anaconda3\\lib\\site-packages\\tensorflow\\python\\client\\session.py\u001b[0m in \u001b[0;36m_do_call\u001b[1;34m(self, fn, *args)\u001b[0m\n\u001b[0;32m   1333\u001b[0m     \u001b[1;32mtry\u001b[0m\u001b[1;33m:\u001b[0m\u001b[1;33m\u001b[0m\u001b[0m\n\u001b[1;32m-> 1334\u001b[1;33m       \u001b[1;32mreturn\u001b[0m \u001b[0mfn\u001b[0m\u001b[1;33m(\u001b[0m\u001b[1;33m*\u001b[0m\u001b[0margs\u001b[0m\u001b[1;33m)\u001b[0m\u001b[1;33m\u001b[0m\u001b[0m\n\u001b[0m\u001b[0;32m   1335\u001b[0m     \u001b[1;32mexcept\u001b[0m \u001b[0merrors\u001b[0m\u001b[1;33m.\u001b[0m\u001b[0mOpError\u001b[0m \u001b[1;32mas\u001b[0m \u001b[0me\u001b[0m\u001b[1;33m:\u001b[0m\u001b[1;33m\u001b[0m\u001b[0m\n",
      "\u001b[1;32m~\\Anaconda3\\lib\\site-packages\\tensorflow\\python\\client\\session.py\u001b[0m in \u001b[0;36m_run_fn\u001b[1;34m(feed_dict, fetch_list, target_list, options, run_metadata)\u001b[0m\n\u001b[0;32m   1318\u001b[0m       return self._call_tf_sessionrun(\n\u001b[1;32m-> 1319\u001b[1;33m           options, feed_dict, fetch_list, target_list, run_metadata)\n\u001b[0m\u001b[0;32m   1320\u001b[0m \u001b[1;33m\u001b[0m\u001b[0m\n",
      "\u001b[1;32m~\\Anaconda3\\lib\\site-packages\\tensorflow\\python\\client\\session.py\u001b[0m in \u001b[0;36m_call_tf_sessionrun\u001b[1;34m(self, options, feed_dict, fetch_list, target_list, run_metadata)\u001b[0m\n\u001b[0;32m   1406\u001b[0m         \u001b[0mself\u001b[0m\u001b[1;33m.\u001b[0m\u001b[0m_session\u001b[0m\u001b[1;33m,\u001b[0m \u001b[0moptions\u001b[0m\u001b[1;33m,\u001b[0m \u001b[0mfeed_dict\u001b[0m\u001b[1;33m,\u001b[0m \u001b[0mfetch_list\u001b[0m\u001b[1;33m,\u001b[0m \u001b[0mtarget_list\u001b[0m\u001b[1;33m,\u001b[0m\u001b[1;33m\u001b[0m\u001b[0m\n\u001b[1;32m-> 1407\u001b[1;33m         run_metadata)\n\u001b[0m\u001b[0;32m   1408\u001b[0m \u001b[1;33m\u001b[0m\u001b[0m\n",
      "\u001b[1;31mFailedPreconditionError\u001b[0m: Attempting to use uninitialized value w2\n\t [[{{node _retval_w2_0_0}}]]",
      "\nDuring handling of the above exception, another exception occurred:\n",
      "\u001b[1;31mFailedPreconditionError\u001b[0m                   Traceback (most recent call last)",
      "\u001b[1;32m<ipython-input-25-5bf040dcbc13>\u001b[0m in \u001b[0;36m<module>\u001b[1;34m()\u001b[0m\n\u001b[0;32m      1\u001b[0m \u001b[1;32mwith\u001b[0m \u001b[0mtf\u001b[0m\u001b[1;33m.\u001b[0m\u001b[0mSession\u001b[0m\u001b[1;33m(\u001b[0m\u001b[0mgraph\u001b[0m \u001b[1;33m=\u001b[0m \u001b[0mg2\u001b[0m\u001b[1;33m)\u001b[0m \u001b[1;32mas\u001b[0m \u001b[0msess\u001b[0m\u001b[1;33m:\u001b[0m\u001b[1;33m\u001b[0m\u001b[0m\n\u001b[0;32m      2\u001b[0m     \u001b[0msess\u001b[0m\u001b[1;33m.\u001b[0m\u001b[0mrun\u001b[0m\u001b[1;33m(\u001b[0m\u001b[0minit_op\u001b[0m\u001b[1;33m)\u001b[0m\u001b[1;33m\u001b[0m\u001b[0m\n\u001b[1;32m----> 3\u001b[1;33m     \u001b[0mprint\u001b[0m\u001b[1;33m(\u001b[0m\u001b[1;34m'w2:'\u001b[0m\u001b[1;33m,\u001b[0m \u001b[0msess\u001b[0m\u001b[1;33m.\u001b[0m\u001b[0mrun\u001b[0m\u001b[1;33m(\u001b[0m\u001b[0mw2\u001b[0m\u001b[1;33m)\u001b[0m\u001b[1;33m)\u001b[0m\u001b[1;33m\u001b[0m\u001b[0m\n\u001b[0m",
      "\u001b[1;32m~\\Anaconda3\\lib\\site-packages\\tensorflow\\python\\client\\session.py\u001b[0m in \u001b[0;36mrun\u001b[1;34m(self, fetches, feed_dict, options, run_metadata)\u001b[0m\n\u001b[0;32m    927\u001b[0m     \u001b[1;32mtry\u001b[0m\u001b[1;33m:\u001b[0m\u001b[1;33m\u001b[0m\u001b[0m\n\u001b[0;32m    928\u001b[0m       result = self._run(None, fetches, feed_dict, options_ptr,\n\u001b[1;32m--> 929\u001b[1;33m                          run_metadata_ptr)\n\u001b[0m\u001b[0;32m    930\u001b[0m       \u001b[1;32mif\u001b[0m \u001b[0mrun_metadata\u001b[0m\u001b[1;33m:\u001b[0m\u001b[1;33m\u001b[0m\u001b[0m\n\u001b[0;32m    931\u001b[0m         \u001b[0mproto_data\u001b[0m \u001b[1;33m=\u001b[0m \u001b[0mtf_session\u001b[0m\u001b[1;33m.\u001b[0m\u001b[0mTF_GetBuffer\u001b[0m\u001b[1;33m(\u001b[0m\u001b[0mrun_metadata_ptr\u001b[0m\u001b[1;33m)\u001b[0m\u001b[1;33m\u001b[0m\u001b[0m\n",
      "\u001b[1;32m~\\Anaconda3\\lib\\site-packages\\tensorflow\\python\\client\\session.py\u001b[0m in \u001b[0;36m_run\u001b[1;34m(self, handle, fetches, feed_dict, options, run_metadata)\u001b[0m\n\u001b[0;32m   1150\u001b[0m     \u001b[1;32mif\u001b[0m \u001b[0mfinal_fetches\u001b[0m \u001b[1;32mor\u001b[0m \u001b[0mfinal_targets\u001b[0m \u001b[1;32mor\u001b[0m \u001b[1;33m(\u001b[0m\u001b[0mhandle\u001b[0m \u001b[1;32mand\u001b[0m \u001b[0mfeed_dict_tensor\u001b[0m\u001b[1;33m)\u001b[0m\u001b[1;33m:\u001b[0m\u001b[1;33m\u001b[0m\u001b[0m\n\u001b[0;32m   1151\u001b[0m       results = self._do_run(handle, final_targets, final_fetches,\n\u001b[1;32m-> 1152\u001b[1;33m                              feed_dict_tensor, options, run_metadata)\n\u001b[0m\u001b[0;32m   1153\u001b[0m     \u001b[1;32melse\u001b[0m\u001b[1;33m:\u001b[0m\u001b[1;33m\u001b[0m\u001b[0m\n\u001b[0;32m   1154\u001b[0m       \u001b[0mresults\u001b[0m \u001b[1;33m=\u001b[0m \u001b[1;33m[\u001b[0m\u001b[1;33m]\u001b[0m\u001b[1;33m\u001b[0m\u001b[0m\n",
      "\u001b[1;32m~\\Anaconda3\\lib\\site-packages\\tensorflow\\python\\client\\session.py\u001b[0m in \u001b[0;36m_do_run\u001b[1;34m(self, handle, target_list, fetch_list, feed_dict, options, run_metadata)\u001b[0m\n\u001b[0;32m   1326\u001b[0m     \u001b[1;32mif\u001b[0m \u001b[0mhandle\u001b[0m \u001b[1;32mis\u001b[0m \u001b[1;32mNone\u001b[0m\u001b[1;33m:\u001b[0m\u001b[1;33m\u001b[0m\u001b[0m\n\u001b[0;32m   1327\u001b[0m       return self._do_call(_run_fn, feeds, fetches, targets, options,\n\u001b[1;32m-> 1328\u001b[1;33m                            run_metadata)\n\u001b[0m\u001b[0;32m   1329\u001b[0m     \u001b[1;32melse\u001b[0m\u001b[1;33m:\u001b[0m\u001b[1;33m\u001b[0m\u001b[0m\n\u001b[0;32m   1330\u001b[0m       \u001b[1;32mreturn\u001b[0m \u001b[0mself\u001b[0m\u001b[1;33m.\u001b[0m\u001b[0m_do_call\u001b[0m\u001b[1;33m(\u001b[0m\u001b[0m_prun_fn\u001b[0m\u001b[1;33m,\u001b[0m \u001b[0mhandle\u001b[0m\u001b[1;33m,\u001b[0m \u001b[0mfeeds\u001b[0m\u001b[1;33m,\u001b[0m \u001b[0mfetches\u001b[0m\u001b[1;33m)\u001b[0m\u001b[1;33m\u001b[0m\u001b[0m\n",
      "\u001b[1;32m~\\Anaconda3\\lib\\site-packages\\tensorflow\\python\\client\\session.py\u001b[0m in \u001b[0;36m_do_call\u001b[1;34m(self, fn, *args)\u001b[0m\n\u001b[0;32m   1346\u001b[0m           \u001b[1;32mpass\u001b[0m\u001b[1;33m\u001b[0m\u001b[0m\n\u001b[0;32m   1347\u001b[0m       \u001b[0mmessage\u001b[0m \u001b[1;33m=\u001b[0m \u001b[0merror_interpolation\u001b[0m\u001b[1;33m.\u001b[0m\u001b[0minterpolate\u001b[0m\u001b[1;33m(\u001b[0m\u001b[0mmessage\u001b[0m\u001b[1;33m,\u001b[0m \u001b[0mself\u001b[0m\u001b[1;33m.\u001b[0m\u001b[0m_graph\u001b[0m\u001b[1;33m)\u001b[0m\u001b[1;33m\u001b[0m\u001b[0m\n\u001b[1;32m-> 1348\u001b[1;33m       \u001b[1;32mraise\u001b[0m \u001b[0mtype\u001b[0m\u001b[1;33m(\u001b[0m\u001b[0me\u001b[0m\u001b[1;33m)\u001b[0m\u001b[1;33m(\u001b[0m\u001b[0mnode_def\u001b[0m\u001b[1;33m,\u001b[0m \u001b[0mop\u001b[0m\u001b[1;33m,\u001b[0m \u001b[0mmessage\u001b[0m\u001b[1;33m)\u001b[0m\u001b[1;33m\u001b[0m\u001b[0m\n\u001b[0m\u001b[0;32m   1349\u001b[0m \u001b[1;33m\u001b[0m\u001b[0m\n\u001b[0;32m   1350\u001b[0m   \u001b[1;32mdef\u001b[0m \u001b[0m_extend_graph\u001b[0m\u001b[1;33m(\u001b[0m\u001b[0mself\u001b[0m\u001b[1;33m)\u001b[0m\u001b[1;33m:\u001b[0m\u001b[1;33m\u001b[0m\u001b[0m\n",
      "\u001b[1;31mFailedPreconditionError\u001b[0m: Attempting to use uninitialized value w2\n\t [[{{node _retval_w2_0_0}}]]"
     ]
    }
   ],
   "source": [
    "with tf.Session(graph = g2) as sess:\n",
    "    sess.run(init_op)\n",
    "    print('w2:', sess.run(w2))\n",
    "#Cannot be evaluated as w2 was not initiated properly."
   ]
  },
  {
   "cell_type": "markdown",
   "metadata": {},
   "source": [
    "### Variable scoping\n",
    "\n",
    "Can be used to organize variables into seperate subparts that can be further nested. Look at the following example"
   ]
  },
  {
   "cell_type": "code",
   "execution_count": 27,
   "metadata": {},
   "outputs": [
    {
     "name": "stdout",
     "output_type": "stream",
     "text": [
      "<tf.Variable 'net_A/layer-1/weights:0' shape=(10, 4) dtype=float32_ref>\n",
      "<tf.Variable 'net_A/layer-2/weights:0' shape=(20, 10) dtype=float32_ref>\n",
      "<tf.Variable 'net_B/layer-1/weights:0' shape=(10, 4) dtype=float32_ref>\n"
     ]
    }
   ],
   "source": [
    "import tensorflow as tf\n",
    "\n",
    "g = tf.Graph()\n",
    "\n",
    "with g.as_default():\n",
    "    with tf.variable_scope('net_A'):\n",
    "        with tf.variable_scope('layer-1'):\n",
    "            w1 = tf.Variable(tf.random_normal(shape = (10,4)), name = 'weights')\n",
    "        with tf.variable_scope('layer-2'):\n",
    "            w2 = tf.Variable(tf.random_normal(shape = (20,10)), name = 'weights')\n",
    "    with tf.variable_scope('net_B'):\n",
    "        with tf.variable_scope('layer-1'):\n",
    "            w3 = tf.Variable(tf.random_normal(shape = (10,4)), name = 'weights')\n",
    "            \n",
    "    print(w1)\n",
    "    print(w2)\n",
    "    print(w3)"
   ]
  },
  {
   "cell_type": "markdown",
   "metadata": {},
   "source": [
    "## Reusing variables\n",
    "\n",
    "Example; developing a complex NN with input data from multiple sources. Xa,ya from source A and Xb,yb from source B. We will design our graph that we will use data from only one source as input to build the network. Then, we can feed the data from the other source to the same classifier.\n",
    "\n",
    "Data from source A is fed trhoguh placeholder, source B is the output of a generator network. We will build the generator network by calling the build_generator function with in the generator scope. Then we will ad a classifiery by calling build_classifier within the classifier scope."
   ]
  },
  {
   "cell_type": "code",
   "execution_count": 31,
   "metadata": {},
   "outputs": [],
   "source": [
    "import tensorflow as tf\n",
    "\n",
    "######################\n",
    "## Helper functions ##\n",
    "######################\n",
    "\n",
    "def build_classifier(data, labels, n_classes = 2):\n",
    "    data_shape = data.get_shape().as_list()\n",
    "    weights = tf.get_variable(name = 'weights',\n",
    "                             shape = (data_shape[1], n_classes), dtype = tf.float32)\n",
    "    bias = tf.get_variable(name = 'bias', initializer = tf.zeros(shape = n_classes))\n",
    "    \n",
    "    logits = tf.add(tf.matmul(data, weights), bias, name = 'logits')\n",
    "    \n",
    "    return logits, tf.nn.softmax(logits)\n",
    "\n",
    "def build_generator(data, n_hidden):\n",
    "    data_shape = data.get_shape().as_list()\n",
    "    w1 = tf.Variable(tf.random_normal(shape = (data_shape[1], n_hidden)), name = 'w1')\n",
    "    b1 = tf.Variable(tf.zeros(shape = n_hidden), name = 'b1')\n",
    "    hidden = tf.add(tf.matmul(data, w1), b1, name = 'hidden_pre-activation')\n",
    "    \n",
    "    w2 = tf.Variable(tf.random_normal(shape=(n_hidden, data_shape[1])), name = 'w2')\n",
    "    b2 = tf.Variable(tf.zeros(shape = data_shape[1]), name = 'b2')\n",
    "    output = tf.add(tf.matmul(hidden, w2), b2, name = 'output')\n",
    "    \n",
    "    return output, tf.nn.sigmoid(output)\n",
    "\n",
    "#####################\n",
    "## Build the graph ##\n",
    "#####################\n",
    "\n",
    "batch_size = 64\n",
    "g = tf.Graph()\n",
    "\n",
    "with g.as_default():\n",
    "    tf_X = tf.placeholder(shape=(batch_size, 100),\n",
    "                         dtype = tf.float32, name = 'tf_X')\n",
    "    \n",
    "    #build the generator\n",
    "    with tf.variable_scope('generator'):\n",
    "        gen_out1 = build_generator(data = tf_X, n_hidden = 50)\n",
    "        \n",
    "    #build the classifier\n",
    "    with tf.variable_scope('classifier') as scope:\n",
    "        cls_out1 = build_classifier(data = tf_X, labels = tf.ones(shape = batch_size))\n",
    "        \n",
    "        #reuse the classifier for generated data\n",
    "        scope.reuse_variables()\n",
    "        cls_out2 = build_classifier(data = gen_out1[1], labels = tf.zeros(shape = batch_size))\n",
    "        \n",
    "    #OR reuse the classifier for generated data as follows/\n",
    "    #with tf.variable_scope('classifier', reuse = True):\n",
    "    #    cls_out2 = build_classifier(data = gen_out1[1], labels = tf.zeros(shape = batch_size))"
   ]
  },
  {
   "cell_type": "markdown",
   "metadata": {},
   "source": [
    "## Building a regression model\n",
    "\n",
    "y = wx + b\n",
    "\n",
    "all tenors:\n",
    "* Input x: tf_x defined as placeholder\n",
    "* input y: tf_y defined as placeholder\n",
    "* Model parameter w: weight defined as variable\n",
    "* Model parameter b: bias defined as variable\n",
    "* moedel output y^: y_hat returned by the TF operations to compute the rpediction using the regression model "
   ]
  },
  {
   "cell_type": "code",
   "execution_count": 33,
   "metadata": {},
   "outputs": [
    {
     "name": "stdout",
     "output_type": "stream",
     "text": [
      "WARNING:tensorflow:From C:\\Users\\rikkr\\Anaconda3\\lib\\site-packages\\tensorflow\\python\\ops\\math_ops.py:3066: to_int32 (from tensorflow.python.ops.math_ops) is deprecated and will be removed in a future version.\n",
      "Instructions for updating:\n",
      "Use tf.cast instead.\n"
     ]
    }
   ],
   "source": [
    "import tensorflow as tf\n",
    "import numpy as np\n",
    "\n",
    "g = tf.Graph()\n",
    "\n",
    "with g.as_default():\n",
    "    tf.set_random_seed(123)\n",
    "    \n",
    "    ##Placeholders\n",
    "    tf_x = tf.placeholder(shape = (None), dtype = tf.float32, name = 'tf_x')\n",
    "    tf_y = tf.placeholder(shape = (None), dtype = tf.float32, name = 'tf_y')\n",
    "    \n",
    "    #Define the variable\n",
    "    weight = tf.Variable(tf.random_normal(shape = (1,1), stddev=0.25), name = 'weight')\n",
    "    bias = tf.Variable(0.0, name = 'bias')\n",
    "    \n",
    "    ## Build the model\n",
    "    y_hat = tf.add((weight * tf_x), bias, name = 'y_hat')\n",
    "    \n",
    "    #compute the cost\n",
    "    cost = tf.reduce_mean(tf.square(tf_y - y_hat), name = 'cost')\n",
    "    \n",
    "    ##Train the model\n",
    "    optim = tf.train.GradientDescentOptimizer(learning_rate = 0.001)\n",
    "    \n",
    "    train_op = optim.minimize(cost, name = 'train_op')\n",
    "    "
   ]
  },
  {
   "cell_type": "code",
   "execution_count": 35,
   "metadata": {},
   "outputs": [
    {
     "data": {
      "image/png": "[encoded data removed]",
      "text/plain": [
       "<Figure size 432x288 with 1 Axes>"
      ]
     },
     "metadata": {},
     "output_type": "display_data"
    }
   ],
   "source": [
    "## create a random toy dataset for regression\n",
    "\n",
    "import numpy as np\n",
    "import matplotlib.pyplot as plt\n",
    "np.random.seed(0)\n",
    "\n",
    "def make_random_data():\n",
    "    x = np.random.uniform(low = -2, high = 4, size = 200)\n",
    "    y = []\n",
    "    for t in x:\n",
    "        r = np.random.normal(loc = 0.0, scale = (0.5 + t*t/3))\n",
    "        y.append(r)\n",
    "    return x, 1.726*x-0.84 + np.array(y)\n",
    "\n",
    "x, y = make_random_data()\n",
    "\n",
    "plt.plot(x, y, 'o')\n",
    "plt.show()"
   ]
  },
  {
   "cell_type": "code",
   "execution_count": 37,
   "metadata": {},
   "outputs": [
    {
     "name": "stdout",
     "output_type": "stream",
     "text": [
      "Epoch    0: 12.2230\n",
      "Epoch   50: 8.3876\n",
      "Epoch  100: 6.5721\n",
      "Epoch  150: 5.6844\n",
      "Epoch  200: 5.2269\n",
      "Epoch  250: 4.9725\n",
      "Epoch  300: 4.8169\n",
      "Epoch  350: 4.7119\n",
      "Epoch  400: 4.6347\n",
      "Epoch  450: 4.5742\n"
     ]
    }
   ],
   "source": [
    "#Train the model\n",
    "#Train/test splits\n",
    "x_train, y_train = x[:100], y[:100]\n",
    "x_test, y_test = x[100:], y[100:]\n",
    "\n",
    "n_epochs = 500\n",
    "training_cost = []\n",
    "\n",
    "with tf.Session(graph = g) as sess:\n",
    "    sess.run(tf.global_variables_initializer())\n",
    "    \n",
    "    #train the model for n_epochs\n",
    "    for e in range(n_epochs):\n",
    "        c, _ = sess.run([cost, train_op],\n",
    "                       feed_dict = {tf_x: x_train,\n",
    "                                   tf_y: y_train})\n",
    "        training_cost.append(c)\n",
    "        if not e % 50:\n",
    "            print('Epoch %4d: %.4f' % (e,c))"
   ]
  },
  {
   "cell_type": "code",
   "execution_count": 39,
   "metadata": {},
   "outputs": [
    {
     "data": {
      "image/png": "[encoded data removed]",
      "text/plain": [
       "<Figure size 432x288 with 1 Axes>"
      ]
     },
     "metadata": {},
     "output_type": "display_data"
    }
   ],
   "source": [
    "plt.plot(training_cost)\n",
    "plt.show()"
   ]
  },
  {
   "cell_type": "markdown",
   "metadata": {},
   "source": [
    "Objects in a TF graph can also be excuted by using their names: NOTE; TF appends given tensor-names with :0 (or with _1:0 if name is already in use)"
   ]
  },
  {
   "cell_type": "code",
   "execution_count": 41,
   "metadata": {},
   "outputs": [
    {
     "name": "stdout",
     "output_type": "stream",
     "text": [
      "Epoch    0 : 12.223014\n",
      "Epoch   50 : 8.387571\n",
      "Epoch  100 : 6.572100\n",
      "Epoch  150 : 5.684377\n",
      "Epoch  200 : 5.226913\n",
      "Epoch  250 : 4.972521\n",
      "Epoch  300 : 4.816942\n",
      "Epoch  350 : 4.711897\n",
      "Epoch  400 : 4.634660\n",
      "Epoch  450 : 4.574225\n"
     ]
    }
   ],
   "source": [
    "n_epochs = 500\n",
    "training_cost = []\n",
    "\n",
    "with tf.Session(graph = g) as sess:\n",
    "    sess.run(tf.global_variables_initializer())\n",
    "    \n",
    "    #train the model for n_epochs\n",
    "    for e in range(n_epochs):\n",
    "        c, _ = sess.run(['cost:0', 'train_op'], #use names\n",
    "                       feed_dict = {'tf_x:0': x_train,\n",
    "                                   'tf_y:0': y_train})\n",
    "        training_cost.append(c)\n",
    "        if e % 50 == 0:\n",
    "            print('Epoch {:4d} : {:4f}'.format(e,c)) #other printing layout, same as other"
   ]
  },
  {
   "cell_type": "markdown",
   "metadata": {},
   "source": [
    "## Saving and restoring a model in TF\n",
    "\n",
    "We cannot use the previously trained model for predicting, as TF clears the memory if a session is ended. We can save a model by using a tf.train.Saver class, which we call a saver.\n",
    "\n",
    "We have to add a saver to our graph g"
   ]
  },
  {
   "cell_type": "code",
   "execution_count": 42,
   "metadata": {},
   "outputs": [],
   "source": [
    "with g.as_default():\n",
    "    saver = tf.train.Saver()"
   ]
  },
  {
   "cell_type": "code",
   "execution_count": 43,
   "metadata": {},
   "outputs": [
    {
     "name": "stdout",
     "output_type": "stream",
     "text": [
      "Epoch    0: 12.2230\n",
      "Epoch   50: 8.3876\n",
      "Epoch  100: 6.5721\n",
      "Epoch  150: 5.6844\n",
      "Epoch  200: 5.2269\n",
      "Epoch  250: 4.9725\n",
      "Epoch  300: 4.8169\n",
      "Epoch  350: 4.7119\n",
      "Epoch  400: 4.6347\n",
      "Epoch  450: 4.5742\n"
     ]
    }
   ],
   "source": [
    "#retrain the model with an dditional call to saver.save() to save the model\n",
    "n_epochs = 500\n",
    "training_cost = []\n",
    "\n",
    "with tf.Session(graph = g) as sess:\n",
    "    sess.run(tf.global_variables_initializer())\n",
    "    \n",
    "    #train the model for n_epochs\n",
    "    for e in range(n_epochs):\n",
    "        c, _ = sess.run(['cost:0', 'train_op'], #use names\n",
    "                       feed_dict = {'tf_x:0': x_train,\n",
    "                                   'tf_y:0': y_train})\n",
    "        training_cost.append(c)\n",
    "        if not e % 50:\n",
    "            print('Epoch %4d: %.4f' % (e,c))\n",
    "            \n",
    "    saver.save(sess, './trained-model')"
   ]
  },
  {
   "cell_type": "markdown",
   "metadata": {},
   "source": [
    "Three files are stored (.data, .index and .meta). We can restore the training model with two steps: Rebuild the graph that has the same nodes and names as the saved model and restore the saved variables in a new tf.Session enviroment.\n",
    "\n",
    "We can do the first step by running the statements or use the . meta file"
   ]
  },
  {
   "cell_type": "code",
   "execution_count": 45,
   "metadata": {},
   "outputs": [],
   "source": [
    "with tf.Session() as sess:\n",
    "    new_saver = tf.train.import_meta_graph('./trained-model.meta')"
   ]
  },
  {
   "cell_type": "markdown",
   "metadata": {},
   "source": [
    "We can use the new_saver object to restore the parameters of the model"
   ]
  },
  {
   "cell_type": "code",
   "execution_count": 50,
   "metadata": {},
   "outputs": [
    {
     "name": "stdout",
     "output_type": "stream",
     "text": [
      "INFO:tensorflow:Restoring parameters from ./trained-model\n"
     ]
    }
   ],
   "source": [
    "import tensorflow as tf\n",
    "import numpy as np\n",
    "\n",
    "g2 = tf.Graph()\n",
    "with tf.Session(graph = g2) as sess:\n",
    "    new_saver = tf.train.import_meta_graph('./trained-model.meta')\n",
    "    new_saver.restore(sess, './trained-model')\n",
    "    \n",
    "    y_pred = sess.run('y_hat:0', feed_dict={'tf_x:0' : x_test})"
   ]
  },
  {
   "cell_type": "code",
   "execution_count": 51,
   "metadata": {},
   "outputs": [
    {
     "name": "stdout",
     "output_type": "stream",
     "text": [
      "INFO:tensorflow:Restoring parameters from ./trained-model\n"
     ]
    },
    {
     "data": {
      "image/png": "[encoded data removed]",
      "text/plain": [
       "<Figure size 432x288 with 1 Axes>"
      ]
     },
     "metadata": {},
     "output_type": "display_data"
    }
   ],
   "source": [
    "#visualize the predictions\n",
    "import matplotlib.pyplot as plt\n",
    "\n",
    "x_arr = np.arange(-2, 4, 0.1)\n",
    "\n",
    "g2 = tf.Graph()\n",
    "with tf.Session(graph = g2) as sess:\n",
    "    new_saver = tf.train.import_meta_graph('./trained-model.meta')\n",
    "    new_saver.restore(sess, './trained-model')\n",
    "    \n",
    "    y_arr = sess.run('y_hat:0', feed_dict= {'tf_x:0' : x_arr})\n",
    "    \n",
    "plt.figure()\n",
    "plt.plot(x_train, y_train, 'bo')\n",
    "plt.plot(x_test, y_test, 'bo', alpha = 0.3)\n",
    "plt.plot(x_arr, y_arr.T[:, 0], '-r', lw = 3)\n",
    "plt.show()"
   ]
  },
  {
   "cell_type": "markdown",
   "metadata": {},
   "source": [
    "## Transforming Tensors as multidimensional data arrays\n"
   ]
  },
  {
   "cell_type": "code",
   "execution_count": 73,
   "metadata": {},
   "outputs": [
    {
     "name": "stdout",
     "output_type": "stream",
     "text": [
      "Tensor(\"T1:0\", shape=(3, 4), dtype=float64)\n",
      "Shape of T1 is (3, 4)\n",
      "<tf.Variable 'Variable:0' shape=(3, 4) dtype=float32_ref>\n",
      "<tf.Variable 'Variable_1:0' shape=(3,) dtype=float32_ref>\n"
     ]
    }
   ],
   "source": [
    "import tensorflow as tf\n",
    "import numpy as np\n",
    "g = tf.Graph()\n",
    "with g.as_default():\n",
    "    arr = np.array([[1., 2., 3., 3.5],\n",
    "                   [4., 5., 6., 6.5],\n",
    "                   [7., 8., 9., 9.5]])\n",
    "    T1 = tf.constant(arr, name = 'T1')\n",
    "    print(T1)\n",
    "    \n",
    "    s = T1.get_shape()\n",
    "    print('Shape of T1 is', s)\n",
    "    T2 = tf.Variable(tf.random_normal(shape = s))\n",
    "    print(T2)\n",
    "    T3 = tf.Variable(tf.random_normal(shape = (s.as_list()[0],))) #Variable can be subset with creating a pythonlist\n",
    "    print(T3)"
   ]
  },
  {
   "cell_type": "code",
   "execution_count": 58,
   "metadata": {},
   "outputs": [
    {
     "name": "stdout",
     "output_type": "stream",
     "text": [
      "Tensor(\"T4_1:0\", shape=(1, 1, 12), dtype=float64)\n",
      "Tensor(\"T5_1:0\", shape=(1, 3, 4), dtype=float64)\n"
     ]
    }
   ],
   "source": [
    "#reshape tensor T1 to T4 and T5 (both rank 3)\n",
    "with g.as_default():\n",
    "    T4 = tf.reshape(T1, shape = [1,1,-1], name = 'T4')\n",
    "    print(T4)\n",
    "    T5 = tf.reshape(T1, shape = [1,3,-1], name = 'T5')\n",
    "    print(T5)"
   ]
  },
  {
   "cell_type": "code",
   "execution_count": 59,
   "metadata": {},
   "outputs": [
    {
     "name": "stdout",
     "output_type": "stream",
     "text": [
      "[[[1.  2.  3.  3.5 4.  5.  6.  6.5 7.  8.  9.  9.5]]]\n",
      "\n",
      "[[[1.  2.  3.  3.5]\n",
      "  [4.  5.  6.  6.5]\n",
      "  [7.  8.  9.  9.5]]]\n"
     ]
    }
   ],
   "source": [
    "with tf.Session(graph = g) as sess:\n",
    "    print(sess.run(T4))\n",
    "    print()\n",
    "    print(sess.run(T5))"
   ]
  },
  {
   "cell_type": "code",
   "execution_count": 60,
   "metadata": {},
   "outputs": [
    {
     "name": "stdout",
     "output_type": "stream",
     "text": [
      "Tensor(\"T6:0\", shape=(4, 3, 1), dtype=float64)\n",
      "Tensor(\"T7:0\", shape=(1, 4, 3), dtype=float64)\n"
     ]
    }
   ],
   "source": [
    "#To transform an array in TF we use tf.transpose. We are able to change the order of the dimensions  by using perm =[...]\n",
    "with g.as_default():\n",
    "    T6 = tf.transpose(T5, perm=[2, 1, 0], name = 'T6')\n",
    "    print(T6)\n",
    "    T7 = tf.transpose(T5, perm=[0, 2, 1], name = 'T7')\n",
    "    print(T7)"
   ]
  },
  {
   "cell_type": "code",
   "execution_count": 61,
   "metadata": {},
   "outputs": [
    {
     "name": "stdout",
     "output_type": "stream",
     "text": [
      "[<tf.Tensor 'T8:0' shape=(1, 3, 2) dtype=float64>, <tf.Tensor 'T8:1' shape=(1, 3, 2) dtype=float64>]\n"
     ]
    }
   ],
   "source": [
    "#We can also split a tensor into a list of subtensors using tf.split\n",
    "with g.as_default():\n",
    "    t5_splt = tf.split(T5, num_or_size_splits = 2, axis = 2, name = 'T8')\n",
    "    print(t5_splt)"
   ]
  },
  {
   "cell_type": "code",
   "execution_count": 63,
   "metadata": {},
   "outputs": [
    {
     "name": "stdout",
     "output_type": "stream",
     "text": [
      "Tensor(\"t1:0\", shape=(5, 1), dtype=float32)\n",
      "Tensor(\"t2:0\", shape=(5, 1), dtype=float32)\n",
      "Tensor(\"t3:0\", shape=(10, 1), dtype=float32)\n",
      "Tensor(\"t4:0\", shape=(5, 2), dtype=float32)\n"
     ]
    }
   ],
   "source": [
    "#Concatenation of multiple tensors if tensors have same shape and dtype\n",
    "g = tf.Graph()\n",
    "with g.as_default():\n",
    "    t1 = tf.ones(shape=(5,1), dtype = tf.float32, name = 't1')\n",
    "    t2 = tf.zeros(shape = (5,1), dtype = tf.float32, name = 't2')\n",
    "    \n",
    "    print(t1)\n",
    "    print(t2)\n",
    "    \n",
    "with g.as_default():\n",
    "    t3 = tf.concat([t1, t2], axis = 0, name = 't3')\n",
    "    print(t3)\n",
    "    t4 = tf.concat([t1, t2], axis = 1, name = 't4')\n",
    "    print(t4)"
   ]
  },
  {
   "cell_type": "code",
   "execution_count": 64,
   "metadata": {},
   "outputs": [
    {
     "name": "stdout",
     "output_type": "stream",
     "text": [
      "[[1.]\n",
      " [1.]\n",
      " [1.]\n",
      " [1.]\n",
      " [1.]\n",
      " [0.]\n",
      " [0.]\n",
      " [0.]\n",
      " [0.]\n",
      " [0.]]\n",
      "\n",
      "[[1. 0.]\n",
      " [1. 0.]\n",
      " [1. 0.]\n",
      " [1. 0.]\n",
      " [1. 0.]]\n"
     ]
    }
   ],
   "source": [
    "with tf.Session(graph = g) as sess:\n",
    "    print(t3.eval())\n",
    "    print()\n",
    "    print(t4.eval())"
   ]
  },
  {
   "cell_type": "markdown",
   "metadata": {},
   "source": [
    "## Control flow mechanics in building graphs\n",
    "\n",
    "Some subtle differences exist between Python's control flow statemnts compared to TF's control flow functions\n",
    "\n",
    "conider the following equation\n",
    "\n",
    "res = x+y if x<y, otherwise x-y"
   ]
  },
  {
   "cell_type": "code",
   "execution_count": 65,
   "metadata": {},
   "outputs": [
    {
     "name": "stdout",
     "output_type": "stream",
     "text": [
      "Object: Tensor(\"result_add:0\", dtype=float32)\n",
      "x < y: True -> Result: 3.0\n",
      "x < y: False -> Result: 3.0\n"
     ]
    }
   ],
   "source": [
    "import tensorflow as tf\n",
    "\n",
    "x, y = 1.0, 2.0\n",
    "\n",
    "g = tf.Graph()\n",
    "\n",
    "with g.as_default():\n",
    "    tf_x = tf.placeholder(dtype = tf.float32, shape = None, name = 'tf_x')\n",
    "    tf_y = tf.placeholder(dtype = tf.float32, shape = None, name = 'tf_y')\n",
    "    \n",
    "    if x < y:\n",
    "        res = tf.add(tf_x, tf_y, name = 'result_add')\n",
    "    else:\n",
    "        res = tf.subtract(tf_x, tf_y, name = 'result_sub')\n",
    "    \n",
    "    print('Object:', res)\n",
    "    \n",
    "with tf.Session(graph = g) as sess:\n",
    "    print('x < y: %s -> Result:' % (x<y),\n",
    "         res.eval(feed_dict={'tf_x:0' : x,\n",
    "                            'tf_y:0' : y}))\n",
    "    x, y = 2.0, 1.0\n",
    "    print('x < y: %s -> Result:' % (x<y),\n",
    "         res.eval(feed_dict={'tf_x:0' : x,\n",
    "                            'tf_y:0': y}))"
   ]
  },
  {
   "cell_type": "markdown",
   "metadata": {},
   "source": [
    "Import to understant that the graph is static --> If we feed new values during the session, the values will keep going trough the same nodes (and thus the else subject is not called). Better to implement the following:"
   ]
  },
  {
   "cell_type": "code",
   "execution_count": 75,
   "metadata": {},
   "outputs": [
    {
     "name": "stdout",
     "output_type": "stream",
     "text": [
      "Object: Tensor(\"cond/Merge:0\", dtype=float32)\n",
      "x < y: True -> Result: 3.0\n",
      "x < y: False -> Result: 1.0\n"
     ]
    }
   ],
   "source": [
    "import tensorflow as tf\n",
    "\n",
    "x, y = 1.0, 2.0\n",
    "\n",
    "g = tf.Graph()\n",
    "\n",
    "with g.as_default():\n",
    "    tf_x = tf.placeholder(dtype = tf.float32, shape = None, name = 'tf_x')\n",
    "    tf_y = tf.placeholder(dtype = tf.float32, shape = None, name = 'tf_y')\n",
    "    \n",
    "    res = tf.cond(tf_x < tf_y,\n",
    "                 lambda: tf.add(tf_x, tf_y, name = 'result_add'),\n",
    "                 lambda: tf.subtract(tf_x, tf_y, name = 'result_sub'))\n",
    "      \n",
    "    print('Object:', res)\n",
    "    \n",
    "with tf.Session(graph = g) as sess:\n",
    "    print('x < y: %s -> Result:' % (x<y),\n",
    "         res.eval(feed_dict={'tf_x:0' : x,\n",
    "                            'tf_y:0' : y}))\n",
    "    x, y = 2.0, 1.0\n",
    "    print('x < y: %s -> Result:' % (x<y),\n",
    "         res.eval(feed_dict={'tf_x:0' : x,\n",
    "                            'tf_y:0': y}))"
   ]
  },
  {
   "cell_type": "markdown",
   "metadata": {},
   "source": [
    "Similar to tf.cond, we can also use tf.case (as if..else statement) or tf.while_loop;"
   ]
  },
  {
   "cell_type": "code",
   "execution_count": 67,
   "metadata": {},
   "outputs": [],
   "source": [
    "if (x<y):\n",
    "    result = 1\n",
    "else:\n",
    "    result = 0\n",
    "\n",
    "#In python is similar to the following in TF\n",
    "\n",
    "f1 = lambda: tf.constant(1)\n",
    "f2 = lambda: tf.constant(0)\n",
    "result = tf.case([(tf.less(x,y), f1)], default = f2)"
   ]
  },
  {
   "cell_type": "code",
   "execution_count": 68,
   "metadata": {},
   "outputs": [
    {
     "data": {
      "text/plain": [
       "<tf.Tensor 'while/Exit:0' shape=() dtype=int32>"
      ]
     },
     "execution_count": 68,
     "metadata": {},
     "output_type": "execute_result"
    }
   ],
   "source": [
    "i = tf.constant(0)\n",
    "threshold = 100\n",
    "c = lambda i: tf.less(i, 100)\n",
    "b = lambda i: tf.add(i,1)\n",
    "tf.while_loop(cond = c, body = b, loop_vars=[i])"
   ]
  },
  {
   "cell_type": "markdown",
   "metadata": {},
   "source": [
    "## Visualizing the graph with TensorBoard"
   ]
  },
  {
   "cell_type": "code",
   "execution_count": 69,
   "metadata": {},
   "outputs": [],
   "source": [
    "batch_size = 64\n",
    "g = tf.Graph()\n",
    "\n",
    "with g.as_default():\n",
    "    tf_X = tf.placeholder(shape=(batch_size, 100),\n",
    "                         dtype = tf.float32, name = 'tf_X')\n",
    "    \n",
    "    #build the generator\n",
    "    with tf.variable_scope('generator'):\n",
    "        gen_out1 = build_generator(data = tf_X, n_hidden = 50)\n",
    "        \n",
    "    #build the classifier\n",
    "    with tf.variable_scope('classifier') as scope:\n",
    "        cls_out1 = build_classifier(data = tf_X, labels = tf.ones(shape = batch_size))\n",
    "        \n",
    "        #reuse the classifier for generated data\n",
    "        scope.reuse_variables()\n",
    "        cls_out2 = build_classifier(data = gen_out1[1], labels = tf.zeros(shape = batch_size))\n",
    "        \n",
    "    #OR reuse the classifier for generated data as follows/\n",
    "    #with tf.variable_scope('classifier', reuse = True):\n",
    "    #    cls_out2 = build_classifier(data = gen_out1[1], labels = tf.zeros(shape = batch_size))"
   ]
  },
  {
   "cell_type": "code",
   "execution_count": 76,
   "metadata": {},
   "outputs": [],
   "source": [
    "with tf.Session(graph = g) as sess:\n",
    "    file_writer = tf.summary.FileWriter(logdir='./logs/', graph = g)"
   ]
  },
  {
   "cell_type": "code",
   "execution_count": null,
   "metadata": {},
   "outputs": [],
   "source": []
  }
 ],
 "metadata": {
  "kernelspec": {
   "display_name": "Python 3",
   "language": "python",
   "name": "python3"
  },
  "language_info": {
   "codemirror_mode": {
    "name": "ipython",
    "version": 3
   },
   "file_extension": ".py",
   "mimetype": "text/x-python",
   "name": "python",
   "nbconvert_exporter": "python",
   "pygments_lexer": "ipython3",
   "version": "3.6.5"
  }
 },
 "nbformat": 4,
 "nbformat_minor": 2
}
