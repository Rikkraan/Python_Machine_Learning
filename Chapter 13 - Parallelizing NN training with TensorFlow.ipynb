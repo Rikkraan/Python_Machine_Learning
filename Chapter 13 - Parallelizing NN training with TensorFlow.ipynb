{
 "cells": [
  {
   "cell_type": "markdown",
   "metadata": {},
   "source": [
    "# Chapter 13 - Parallelizing NN training with TensorFlow"
   ]
  },
  {
   "cell_type": "markdown",
   "metadata": {},
   "source": [
    "TensorFlow is one of the most popular deep learning libraries and can be used to implement NN's much more efficiently than any of the previous NumPy implementations. TF can significantly speed up ML tasks\n",
    "\n",
    "TensorFlow is developed to utilize GPU's; GPU's have many more cores and can thus do much more floating-point calculations per second. However, writing code to target GPU's is not as easy as simply writing Python code. TensorFlow can help in these cases.\n"
   ]
  },
  {
   "cell_type": "markdown",
   "metadata": {},
   "source": [
    "## What is TensorFlow?\n",
    "\n",
    "Tensorflow is a scalable and multiplatform programming interface for implementing and running ML-algorithms, including convenience wrappers for deep learning. It supports multiple programming languages, but the Python API is currently the most complete."
   ]
  },
  {
   "cell_type": "markdown",
   "metadata": {},
   "source": [
    "Tensorflow is built around a computation graph composed of a set of nodes. Each node represents an operation. Tensors are the values'scaler is a rank-0 tensor, a vector is a rank-1 tensor, a matrix a rank-2 tensor etc."
   ]
  },
  {
   "cell_type": "code",
   "execution_count": 2,
   "metadata": {},
   "outputs": [
    {
     "name": "stdout",
     "output_type": "stream",
     "text": [
      "x =  1.0 --> z =  2.7\n",
      "x =  0.6 --> z =  1.9\n",
      "x = -1.8 --> z = -2.9\n"
     ]
    }
   ],
   "source": [
    "import tensorflow as tf\n",
    "\n",
    "##create a graph\n",
    "g = tf.Graph()\n",
    "with g.as_default():\n",
    "    x = tf.placeholder(dtype = tf.float32,\n",
    "                      shape = (None), name = 'x')\n",
    "    w = tf.Variable(2.0, name = 'weight')\n",
    "    b = tf.Variable(0.7, name = 'bias')\n",
    "    z = tf.add((w*x), b)\n",
    "    \n",
    "    init = tf.global_variables_initializer()\n",
    "    \n",
    "#Create a session and pass in graph g\n",
    "with tf.Session(graph = g) as sess:\n",
    "    #initialize w and b\n",
    "    sess.run(init)\n",
    "    for t in [1.0, 0.6, -1.8]:\n",
    "        print('x = %4.1f --> z = %4.1f' %(t, sess.run(z, feed_dict={x:t})))"
   ]
  },
  {
   "cell_type": "code",
   "execution_count": 4,
   "metadata": {},
   "outputs": [
    {
     "name": "stdout",
     "output_type": "stream",
     "text": [
      "[2.7 4.7 6.7]\n"
     ]
    }
   ],
   "source": [
    "with tf.Session(graph = g) as sess:\n",
    "    sess.run(init)\n",
    "    print(sess.run(z, feed_dict={x:[1.,2.,3.]}))"
   ]
  },
  {
   "cell_type": "code",
   "execution_count": 5,
   "metadata": {},
   "outputs": [
    {
     "name": "stdout",
     "output_type": "stream",
     "text": [
      "input shape:  (3, 2, 3)\n",
      "Reshaped:\n",
      " [[ 0.  1.  2.  3.  4.  5.]\n",
      " [ 6.  7.  8.  9. 10. 11.]\n",
      " [12. 13. 14. 15. 16. 17.]]\n",
      "Column Sums:\n",
      " [18. 21. 24. 27. 30. 33.]\n",
      "Column Means:\n",
      " [ 6.  7.  8.  9. 10. 11.]\n"
     ]
    }
   ],
   "source": [
    "#Working with array structures --> Create a simple rank-3 tensor of batchsizex2x3, reshape it and calculate colsums\n",
    "import tensorflow as tf\n",
    "import numpy as np\n",
    "\n",
    "g = tf.Graph()\n",
    "with g.as_default():\n",
    "    x = tf.placeholder(dtype = tf.float32,\n",
    "                      shape = (None, 2, 3),\n",
    "                      name = 'input_x')\n",
    "    x2 = tf.reshape(x, shape = (-1, 6),\n",
    "                   name = 'x2')\n",
    "    \n",
    "    #Calculate sum of each column\n",
    "    xsum = tf.reduce_sum(x2, axis = 0, name = 'col_sum')\n",
    "    \n",
    "    #Calculate mean of each column\n",
    "    xmean = tf.reduce_mean(x2, axis = 0, name = 'col_mean')\n",
    "    \n",
    "with tf.Session(graph = g) as sess:\n",
    "    x_array = np.arange(18).reshape(3,2,3)\n",
    "    \n",
    "    print('input shape: ', x_array.shape)\n",
    "    print('Reshaped:\\n',\n",
    "         sess.run(x2, feed_dict={x:x_array}))\n",
    "    print('Column Sums:\\n',\n",
    "         sess.run(xsum, feed_dict={x:x_array}))\n",
    "    print('Column Means:\\n',\n",
    "         sess.run(xmean, feed_dict={x:x_array}))"
   ]
  },
  {
   "cell_type": "markdown",
   "metadata": {},
   "source": [
    "## Developing a simple model with the low-level TensorFlow API\n",
    "\n",
    "Implemenation of ordinary least squares (OLS) regression."
   ]
  },
  {
   "cell_type": "code",
   "execution_count": 6,
   "metadata": {},
   "outputs": [],
   "source": [
    "import tensorflow as tf\n",
    "import numpy as np\n",
    "\n",
    "X_train = np.arange(10).reshape((10,1))\n",
    "y_train = np.array([1.0, 1.3, 3.1, 2.0, 5.0, 6.3, 6.6, 7.4, 8.0, 9.0])"
   ]
  },
  {
   "cell_type": "markdown",
   "metadata": {},
   "source": [
    "### Implement the model in a class.\n",
    "Steps\n",
    "* 1) we need two placeholders -> one for X and one for y.\n",
    "* 2) Next we need to define the trainable variables - weights w and bias b\n",
    "* 3) Then define linear regression model as z = wx+b\n",
    "* 4) Define cost function to be MSE\n",
    "* 5) learn weight parameters by gradient descent optimizer\n"
   ]
  },
  {
   "cell_type": "code",
   "execution_count": 21,
   "metadata": {},
   "outputs": [],
   "source": [
    "class TFLinreg(object):\n",
    "    def __init__(self, x_dim, learning_rate = 0.01, random_seed = None):\n",
    "        self.x_dim = x_dim\n",
    "        self.learning_rate = learning_rate\n",
    "        self.g = tf.Graph()\n",
    "        ## Build the model\n",
    "        with self.g.as_default():\n",
    "            ##set graph-level random-seed\n",
    "            tf.set_random_seed(random_seed)\n",
    "            \n",
    "            self.build()\n",
    "            ##Create initializer\n",
    "            self.init_op = tf.global_variables_initializer()\n",
    "    \n",
    "    def build(self):\n",
    "        ## define placeholders for inputs\n",
    "        self.X = tf.placeholder(dtype = tf.float32,\n",
    "                              shape = (None, self.x_dim),\n",
    "                              name = 'x_input')\n",
    "        self.y = tf.placeholder(dtype = tf.float32,\n",
    "                               shape = (None),\n",
    "                               name = 'y_input')\n",
    "        \n",
    "        print(self.X)\n",
    "        print(self.y)\n",
    "        #define weight matrix and bias vector\n",
    "        w = tf.Variable(tf.zeros(shape = (1)),\n",
    "                       name = 'weight')\n",
    "        b = tf.Variable(tf.zeros(shape = (1)),\n",
    "                       name = 'bias')\n",
    "        print(w)\n",
    "        print(b)\n",
    "        \n",
    "        self.z_net = tf.squeeze(w*self.X + b,\n",
    "                               name = 'z_net')\n",
    "        print(self.z_net)\n",
    "        \n",
    "        sqr_errors = tf.square(self.y-self.z_net,\n",
    "                              name = 'sqr_errors')\n",
    "        print(sqr_errors)\n",
    "        \n",
    "        self.mean_cost = tf.reduce_mean(sqr_errors,\n",
    "                                       name = 'mean_cost')\n",
    "        \n",
    "        optimizer = tf.train.GradientDescentOptimizer(learning_rate = self.learning_rate,\n",
    "                                                     name = 'GradientDescent')\n",
    "        self.optimizer = optimizer.minimize(self.mean_cost)"
   ]
  },
  {
   "cell_type": "code",
   "execution_count": 22,
   "metadata": {},
   "outputs": [
    {
     "name": "stdout",
     "output_type": "stream",
     "text": [
      "Tensor(\"x_input:0\", shape=(?, 1), dtype=float32)\n",
      "Tensor(\"y_input:0\", dtype=float32)\n",
      "<tf.Variable 'weight:0' shape=(1,) dtype=float32_ref>\n",
      "<tf.Variable 'bias:0' shape=(1,) dtype=float32_ref>\n",
      "Tensor(\"z_net:0\", dtype=float32)\n",
      "Tensor(\"sqr_errors:0\", dtype=float32)\n",
      "WARNING:tensorflow:From C:\\Users\\rikkr\\Anaconda3\\lib\\site-packages\\tensorflow\\python\\ops\\math_ops.py:3066: to_int32 (from tensorflow.python.ops.math_ops) is deprecated and will be removed in a future version.\n",
      "Instructions for updating:\n",
      "Use tf.cast instead.\n"
     ]
    }
   ],
   "source": [
    "lrmodel = TFLinreg(x_dim = X_train.shape[1], learning_rate = 0.01)"
   ]
  },
  {
   "cell_type": "code",
   "execution_count": 29,
   "metadata": {},
   "outputs": [],
   "source": [
    "#For training we implment a seperate function that needs a TensorFlow session, a model instance, \n",
    "#training data and the number of epochs as input arguments\n",
    "\n",
    "#Then we iterate and call the optimizer operation of the model while feeding the training data.\n",
    "def train_linreg(sess, model, X_train, y_train, num_epochs=10):\n",
    "    ## initialize all variables: W and b\n",
    "    sess.run(model.init_op)\n",
    "    \n",
    "    training_costs=[]\n",
    "    for i in range(num_epochs):\n",
    "        _, cost = sess.run([model.optimizer, model.mean_cost],\n",
    "                          feed_dict = {model.X:X_train,\n",
    "                                      model.y:y_train})\n",
    "        \n",
    "        training_costs.append(cost)\n",
    "    return training_costs"
   ]
  },
  {
   "cell_type": "code",
   "execution_count": 30,
   "metadata": {},
   "outputs": [],
   "source": [
    "sess = tf.Session(graph=lrmodel.g)\n",
    "training_costs = train_linreg(sess, lrmodel, X_train, y_train)"
   ]
  },
  {
   "cell_type": "code",
   "execution_count": 32,
   "metadata": {},
   "outputs": [
    {
     "data": {
      "image/png": "[encoded data removed]",
      "text/plain": [
       "<Figure size 432x288 with 1 Axes>"
      ]
     },
     "metadata": {},
     "output_type": "display_data"
    }
   ],
   "source": [
    "import matplotlib.pyplot as plt\n",
    "plt.plot(range(1, len(training_costs) + 1), training_costs)\n",
    "plt.tight_layout()\n",
    "plt.xlabel('Epoch')\n",
    "plt.ylabel('Training Cost')\n",
    "plt.show()"
   ]
  },
  {
   "cell_type": "code",
   "execution_count": 33,
   "metadata": {},
   "outputs": [],
   "source": [
    "def predict_linreg(sess, model, X_test):\n",
    "    y_pred = sess.run(model.z_net,\n",
    "                     feed_dict={model.X:X_test})\n",
    "    return y_pred"
   ]
  },
  {
   "cell_type": "code",
   "execution_count": 35,
   "metadata": {},
   "outputs": [
    {
     "data": {
      "image/png": "[encoded data removed]",
      "text/plain": [
       "<Figure size 432x288 with 1 Axes>"
      ]
     },
     "metadata": {},
     "output_type": "display_data"
    }
   ],
   "source": [
    "plt.scatter(X_train, y_train, marker = 's', s= 50, label = 'Training data')\n",
    "plt.plot(range(X_train.shape[0]),\n",
    "        predict_linreg(sess, lrmodel, X_train),\n",
    "        color = 'gray', marker = 'o',\n",
    "        markersize = 6, linewidth = 3,\n",
    "        label = 'LinReg Model')\n",
    "plt.xlabel('x')\n",
    "plt.ylabel('y')\n",
    "plt.legend()\n",
    "plt.tight_layout()\n",
    "plt.show()"
   ]
  },
  {
   "cell_type": "markdown",
   "metadata": {},
   "source": [
    "## Training NN's efficiently with high-level TensorFlow APIs\n",
    "\n",
    "For example Keras, which supports Theano and TensorFlow.\n",
    "\n",
    "First we will build a NN via the Layers API."
   ]
  },
  {
   "cell_type": "code",
   "execution_count": 36,
   "metadata": {},
   "outputs": [],
   "source": [
    "import os\n",
    "import struct\n",
    "import numpy as np\n",
    " \n",
    "def load_mnist(path, kind='train'):\n",
    "    \"\"\"Load MNIST data from `path`\"\"\"\n",
    "    labels_path = os.path.join(path, \n",
    "                               '%s-labels.idx1-ubyte' % kind)\n",
    "    images_path = os.path.join(path, \n",
    "                               '%s-images.idx3-ubyte' % kind)\n",
    "        \n",
    "    with open(labels_path, 'rb') as lbpath:\n",
    "        magic, n = struct.unpack('>II', \n",
    "                                 lbpath.read(8))\n",
    "        labels = np.fromfile(lbpath, \n",
    "                             dtype=np.uint8)\n",
    "\n",
    "    with open(images_path, 'rb') as imgpath:\n",
    "        magic, num, rows, cols = struct.unpack(\">IIII\", \n",
    "                                               imgpath.read(16))\n",
    "        images = np.fromfile(imgpath, \n",
    "                             dtype=np.uint8).reshape(len(labels), 784)\n",
    "        images = ((images / 255.) - .5) * 2\n",
    " \n",
    "    return images, labels"
   ]
  },
  {
   "cell_type": "code",
   "execution_count": 37,
   "metadata": {},
   "outputs": [
    {
     "name": "stdout",
     "output_type": "stream",
     "text": [
      "Rows: 60000, columns: 784\n",
      "Rows: 10000, columns: 784\n",
      "(60000, 784) (60000,)\n",
      "(10000, 784) (10000,)\n"
     ]
    }
   ],
   "source": [
    "X_train, y_train = load_mnist('./MNIST', kind = \"train\")\n",
    "print('Rows: %d, columns: %d' % (X_train.shape[0], X_train.shape[1]))\n",
    "\n",
    "X_test, y_test = load_mnist('./MNIST', kind = \"t10k\")\n",
    "print('Rows: %d, columns: %d' % (X_test.shape[0], X_test.shape[1]))\n",
    "\n",
    "#mean centering and normalization\n",
    "mean_vals = np.mean(X_train, axis = 0)\n",
    "std_val = np.std(X_train)\n",
    "\n",
    "X_train_centered = (X_train - mean_vals)/std_val\n",
    "X_test_centered = (X_test - mean_vals)/std_val\n",
    "\n",
    "del X_train, X_test\n",
    "\n",
    "print(X_train_centered.shape, y_train.shape)\n",
    "print(X_test_centered.shape, y_test.shape)"
   ]
  },
  {
   "cell_type": "code",
   "execution_count": 40,
   "metadata": {},
   "outputs": [],
   "source": [
    "import tensorflow as tf\n",
    "\n",
    "n_features = X_train_centered.shape[1]\n",
    "n_classes = 10\n",
    "random_seed = 123\n",
    "np.random.seed(random_seed)\n",
    "\n",
    "g = tf.Graph()\n",
    "with g.as_default():\n",
    "    tf.set_random_seed(random_seed)\n",
    "    tf_x = tf.placeholder(dtype = tf.float32,\n",
    "                         shape = (None, n_features),\n",
    "                         name = 'tf_x')\n",
    "    tf_y = tf.placeholder(dtype = tf.int32,\n",
    "                         shape = None, name = 'tf_y')\n",
    "    \n",
    "    y_onehot = tf.one_hot(indices=tf_y, depth = n_classes)\n",
    "    \n",
    "    h1 = tf.layers.dense(inputs = tf_x, units = 50,\n",
    "                        activation = tf.tanh,\n",
    "                        name = 'layer1')\n",
    "    h2 = tf.layers.dense(inputs = h1, units = 50,\n",
    "                        activation = tf.tanh,\n",
    "                        name = 'layer2')\n",
    "    \n",
    "    logits = tf.layers.dense(inputs = h2, units = 10,\n",
    "                        activation = None,\n",
    "                        name = 'layer3')\n",
    "    \n",
    "    predictions = {\n",
    "        'classes' : tf.argmax(logits, axis = 1,\n",
    "                             name = 'predicted_classes'),\n",
    "        'probabilities' : tf.nn.softmax(logits,\n",
    "                                       name = 'softmax_tensor')\n",
    "    }"
   ]
  },
  {
   "cell_type": "code",
   "execution_count": 45,
   "metadata": {},
   "outputs": [],
   "source": [
    "#Define cost function and optimizer\n",
    "with g.as_default():\n",
    "    cost = tf.losses.softmax_cross_entropy(\n",
    "            onehot_labels = y_onehot, logits = logits)\n",
    "    \n",
    "    optimizer = tf.train.GradientDescentOptimizer(learning_rate = 0.001)\n",
    "    \n",
    "    train_op = optimizer.minimize(loss = cost)\n",
    "    \n",
    "    init_op = tf.global_variables_initializer()"
   ]
  },
  {
   "cell_type": "code",
   "execution_count": 46,
   "metadata": {},
   "outputs": [],
   "source": [
    "#Method to generate barches of data\n",
    "def create_batch_generator(X, y, batch_size = 128, shuffle = False):\n",
    "    X_copy = np.array(X)\n",
    "    y_copy = np.array(y)\n",
    "    \n",
    "    if shuffle:\n",
    "        data = np.column_stack((X_copy, y_copy))\n",
    "        np.random.shuffle(data)\n",
    "        X_copy = data[:, :-1]\n",
    "        y_copy = data[:, -1].astype(int)\n",
    "        \n",
    "    for i in range(0, X.shape[0], batch_size):\n",
    "        yield (X_copy[i:i+batch_size, :], y_copy[i:i+batch_size])"
   ]
  },
  {
   "cell_type": "code",
   "execution_count": 47,
   "metadata": {},
   "outputs": [
    {
     "name": "stdout",
     "output_type": "stream",
     "text": [
      " -- Epoch  1  Avg. Training loss: 1.5573\n",
      " -- Epoch  2  Avg. Training loss: 0.9492\n",
      " -- Epoch  3  Avg. Training loss: 0.7499\n",
      " -- Epoch  4  Avg. Training loss: 0.6387\n",
      " -- Epoch  5  Avg. Training loss: 0.5668\n",
      " -- Epoch  6  Avg. Training loss: 0.5160\n",
      " -- Epoch  7  Avg. Training loss: 0.4781\n",
      " -- Epoch  8  Avg. Training loss: 0.4486\n",
      " -- Epoch  9  Avg. Training loss: 0.4247\n",
      " -- Epoch 10  Avg. Training loss: 0.4051\n",
      " -- Epoch 11  Avg. Training loss: 0.3884\n",
      " -- Epoch 12  Avg. Training loss: 0.3741\n",
      " -- Epoch 13  Avg. Training loss: 0.3617\n",
      " -- Epoch 14  Avg. Training loss: 0.3507\n",
      " -- Epoch 15  Avg. Training loss: 0.3408\n",
      " -- Epoch 16  Avg. Training loss: 0.3320\n",
      " -- Epoch 17  Avg. Training loss: 0.3239\n",
      " -- Epoch 18  Avg. Training loss: 0.3165\n",
      " -- Epoch 19  Avg. Training loss: 0.3097\n",
      " -- Epoch 20  Avg. Training loss: 0.3035\n",
      " -- Epoch 21  Avg. Training loss: 0.2976\n",
      " -- Epoch 22  Avg. Training loss: 0.2921\n",
      " -- Epoch 23  Avg. Training loss: 0.2870\n",
      " -- Epoch 24  Avg. Training loss: 0.2822\n",
      " -- Epoch 25  Avg. Training loss: 0.2776\n",
      " -- Epoch 26  Avg. Training loss: 0.2733\n",
      " -- Epoch 27  Avg. Training loss: 0.2693\n",
      " -- Epoch 28  Avg. Training loss: 0.2654\n",
      " -- Epoch 29  Avg. Training loss: 0.2617\n",
      " -- Epoch 30  Avg. Training loss: 0.2581\n",
      " -- Epoch 31  Avg. Training loss: 0.2547\n",
      " -- Epoch 32  Avg. Training loss: 0.2515\n",
      " -- Epoch 33  Avg. Training loss: 0.2483\n",
      " -- Epoch 34  Avg. Training loss: 0.2453\n",
      " -- Epoch 35  Avg. Training loss: 0.2425\n",
      " -- Epoch 36  Avg. Training loss: 0.2397\n",
      " -- Epoch 37  Avg. Training loss: 0.2370\n",
      " -- Epoch 38  Avg. Training loss: 0.2344\n",
      " -- Epoch 39  Avg. Training loss: 0.2319\n",
      " -- Epoch 40  Avg. Training loss: 0.2294\n",
      " -- Epoch 41  Avg. Training loss: 0.2271\n",
      " -- Epoch 42  Avg. Training loss: 0.2248\n",
      " -- Epoch 43  Avg. Training loss: 0.2226\n",
      " -- Epoch 44  Avg. Training loss: 0.2204\n",
      " -- Epoch 45  Avg. Training loss: 0.2183\n",
      " -- Epoch 46  Avg. Training loss: 0.2163\n",
      " -- Epoch 47  Avg. Training loss: 0.2143\n",
      " -- Epoch 48  Avg. Training loss: 0.2124\n",
      " -- Epoch 49  Avg. Training loss: 0.2105\n",
      " -- Epoch 50  Avg. Training loss: 0.2086\n"
     ]
    }
   ],
   "source": [
    "#Now we can create a TF session initialize all the variables and train it \n",
    "# (and display the avaerage training loss after each epoch.)\n",
    "\n",
    "#Create a session to launch the grahp\n",
    "sess = tf.Session(graph = g)\n",
    "##run the variable initializer\n",
    "sess.run(init_op)\n",
    "\n",
    "##50 epochs of training\n",
    "for epoch in range(50):\n",
    "    training_costs = []\n",
    "    batch_generator = create_batch_generator(X_train_centered, y_train, batch_size = 64)\n",
    "    for batch_X, batch_y in batch_generator:\n",
    "        ##preperate a dict to feed ddata to our network:\n",
    "        feed = {tf_x:batch_X, tf_y:batch_y}\n",
    "        _, batch_cost = sess.run([train_op, cost], feed_dict = feed)\n",
    "        training_costs.append(batch_cost)\n",
    "        \n",
    "    print(' -- Epoch %2d  Avg. Training loss: %.4f' % (epoch+1, np.mean(training_costs)))"
   ]
  },
  {
   "cell_type": "code",
   "execution_count": 49,
   "metadata": {},
   "outputs": [
    {
     "name": "stdout",
     "output_type": "stream",
     "text": [
      "Test Accuracy: 93.89%\n"
     ]
    }
   ],
   "source": [
    "#Do prediction on test set:\n",
    "feed = {tf_x: X_test_centered}\n",
    "y_pred = sess.run(predictions['classes'],\n",
    "                 feed_dict = feed)\n",
    "print('Test Accuracy: %.2f%%' % (100*np.sum(y_pred == y_test)/y_test.shape[0]))"
   ]
  },
  {
   "cell_type": "markdown",
   "metadata": {},
   "source": [
    "## Developing a multilayer NN with Keras"
   ]
  },
  {
   "cell_type": "code",
   "execution_count": 50,
   "metadata": {},
   "outputs": [
    {
     "name": "stdout",
     "output_type": "stream",
     "text": [
      "Rows: 60000, columns: 784\n",
      "Rows: 10000, columns: 784\n",
      "(60000, 784) (60000,)\n",
      "(10000, 784) (10000,)\n"
     ]
    }
   ],
   "source": [
    "X_train, y_train = load_mnist('./MNIST', kind = \"train\")\n",
    "print('Rows: %d, columns: %d' % (X_train.shape[0], X_train.shape[1]))\n",
    "\n",
    "X_test, y_test = load_mnist('./MNIST', kind = \"t10k\")\n",
    "print('Rows: %d, columns: %d' % (X_test.shape[0], X_test.shape[1]))\n",
    "\n",
    "#mean centering and normalization\n",
    "mean_vals = np.mean(X_train, axis = 0)\n",
    "std_val = np.std(X_train)\n",
    "\n",
    "X_train_centered = (X_train - mean_vals)/std_val\n",
    "X_test_centered = (X_test - mean_vals)/std_val\n",
    "\n",
    "del X_train, X_test\n",
    "\n",
    "print(X_train_centered.shape, y_train.shape)\n",
    "print(X_test_centered.shape, y_test.shape)"
   ]
  },
  {
   "cell_type": "code",
   "execution_count": 52,
   "metadata": {},
   "outputs": [
    {
     "name": "stdout",
     "output_type": "stream",
     "text": [
      "First 3 labels:  [5 0 4]\n",
      "\n",
      "First 3 labels (one-hot):\n",
      " [[0. 0. 0. 0. 0. 1. 0. 0. 0. 0.]\n",
      " [1. 0. 0. 0. 0. 0. 0. 0. 0. 0.]\n",
      " [0. 0. 0. 0. 1. 0. 0. 0. 0. 0.]]\n"
     ]
    }
   ],
   "source": [
    "import tensorflow as tf\n",
    "import tensorflow.keras as keras\n",
    "\n",
    "np.random.seed(123)\n",
    "tf.set_random_seed(123)\n",
    "\n",
    "y_train_onehot = keras.utils.to_categorical(y_train)\n",
    "print('First 3 labels: ', y_train[:3])\n",
    "print('\\nFirst 3 labels (one-hot):\\n', y_train_onehot[:3])"
   ]
  },
  {
   "cell_type": "code",
   "execution_count": 53,
   "metadata": {},
   "outputs": [],
   "source": [
    "#Keras with three layers (first two have 50 hidden units) and tanh as activation function\n",
    "model = keras.models.Sequential()\n",
    "\n",
    "model.add(\n",
    "    keras.layers.Dense(\n",
    "        units = 50,\n",
    "        input_dim=X_train_centered.shape[1],\n",
    "        kernel_initializer = 'glorot_uniform',\n",
    "        bias_initializer = 'zeros',\n",
    "        activation = 'tanh'))\n",
    "\n",
    "model.add(\n",
    "    keras.layers.Dense(\n",
    "        units = 50,\n",
    "        input_dim=50,\n",
    "        kernel_initializer = 'glorot_uniform',\n",
    "        bias_initializer = 'zeros',\n",
    "        activation = 'tanh'))\n",
    "\n",
    "model.add(\n",
    "    keras.layers.Dense(\n",
    "        units = y_train_onehot.shape[1],\n",
    "        input_dim=50,\n",
    "        kernel_initializer = 'glorot_uniform',\n",
    "        bias_initializer = 'zeros',\n",
    "        activation = 'softmax'))\n",
    "\n",
    "sgd_optimizer = keras.optimizers.SGD(lr = 0.001, decay = 1e-7, momentum = .9)\n",
    "\n",
    "model.compile(optimizer = sgd_optimizer, loss = 'categorical_crossentropy')"
   ]
  },
  {
   "cell_type": "code",
   "execution_count": null,
   "metadata": {},
   "outputs": [],
   "source": []
  },
  {
   "cell_type": "code",
   "execution_count": 54,
   "metadata": {},
   "outputs": [
    {
     "name": "stdout",
     "output_type": "stream",
     "text": [
      "Train on 54000 samples, validate on 6000 samples\n",
      "Epoch 1/50\n",
      "54000/54000 [==============================] - 4s 76us/sample - loss: 0.7422 - val_loss: 0.3736\n",
      "Epoch 2/50\n",
      "54000/54000 [==============================] - 2s 41us/sample - loss: 0.3781 - val_loss: 0.2805\n",
      "Epoch 3/50\n",
      "54000/54000 [==============================] - 2s 41us/sample - loss: 0.3109 - val_loss: 0.2411\n",
      "Epoch 4/50\n",
      "54000/54000 [==============================] - 2s 39us/sample - loss: 0.2737 - val_loss: 0.2171\n",
      "Epoch 5/50\n",
      "54000/54000 [==============================] - 2s 40us/sample - loss: 0.2478 - val_loss: 0.1999\n",
      "Epoch 6/50\n",
      "54000/54000 [==============================] - 2s 38us/sample - loss: 0.2276 - val_loss: 0.1842\n",
      "Epoch 7/50\n",
      "54000/54000 [==============================] - 2s 40us/sample - loss: 0.2110 - val_loss: 0.1732\n",
      "Epoch 8/50\n",
      "54000/54000 [==============================] - 2s 39us/sample - loss: 0.1973 - val_loss: 0.1640\n",
      "Epoch 9/50\n",
      "54000/54000 [==============================] - 2s 40us/sample - loss: 0.1854 - val_loss: 0.1562\n",
      "Epoch 10/50\n",
      "54000/54000 [==============================] - 2s 38us/sample - loss: 0.1753 - val_loss: 0.1491\n",
      "Epoch 11/50\n",
      "54000/54000 [==============================] - 2s 38us/sample - loss: 0.1661 - val_loss: 0.1429\n",
      "Epoch 12/50\n",
      "54000/54000 [==============================] - 2s 39us/sample - loss: 0.1580 - val_loss: 0.1387\n",
      "Epoch 13/50\n",
      "54000/54000 [==============================] - 2s 37us/sample - loss: 0.1507 - val_loss: 0.1336\n",
      "Epoch 14/50\n",
      "54000/54000 [==============================] - 2s 38us/sample - loss: 0.1441 - val_loss: 0.1301\n",
      "Epoch 15/50\n",
      "54000/54000 [==============================] - 2s 39us/sample - loss: 0.1380 - val_loss: 0.1275\n",
      "Epoch 16/50\n",
      "54000/54000 [==============================] - 2s 38us/sample - loss: 0.1325 - val_loss: 0.1239\n",
      "Epoch 17/50\n",
      "54000/54000 [==============================] - 2s 38us/sample - loss: 0.1274 - val_loss: 0.1212\n",
      "Epoch 18/50\n",
      "54000/54000 [==============================] - 2s 38us/sample - loss: 0.1226 - val_loss: 0.1189\n",
      "Epoch 19/50\n",
      "54000/54000 [==============================] - 2s 38us/sample - loss: 0.1181 - val_loss: 0.1174\n",
      "Epoch 20/50\n",
      "54000/54000 [==============================] - 2s 37us/sample - loss: 0.1140 - val_loss: 0.1153\n",
      "Epoch 21/50\n",
      "54000/54000 [==============================] - 2s 37us/sample - loss: 0.1101 - val_loss: 0.1133\n",
      "Epoch 22/50\n",
      "54000/54000 [==============================] - 2s 38us/sample - loss: 0.1064 - val_loss: 0.1131\n",
      "Epoch 23/50\n",
      "54000/54000 [==============================] - 2s 39us/sample - loss: 0.1030 - val_loss: 0.1110\n",
      "Epoch 24/50\n",
      "54000/54000 [==============================] - 2s 42us/sample - loss: 0.0997 - val_loss: 0.1101\n",
      "Epoch 25/50\n",
      "54000/54000 [==============================] - 2s 40us/sample - loss: 0.0966 - val_loss: 0.1092\n",
      "Epoch 26/50\n",
      "54000/54000 [==============================] - 2s 37us/sample - loss: 0.0937 - val_loss: 0.1085\n",
      "Epoch 27/50\n",
      "54000/54000 [==============================] - 2s 37us/sample - loss: 0.0909 - val_loss: 0.1077\n",
      "Epoch 28/50\n",
      "54000/54000 [==============================] - 2s 39us/sample - loss: 0.0881 - val_loss: 0.1063\n",
      "Epoch 29/50\n",
      "54000/54000 [==============================] - 2s 38us/sample - loss: 0.0857 - val_loss: 0.1052\n",
      "Epoch 30/50\n",
      "54000/54000 [==============================] - 2s 38us/sample - loss: 0.0833 - val_loss: 0.1050\n",
      "Epoch 31/50\n",
      "54000/54000 [==============================] - 2s 38us/sample - loss: 0.0809 - val_loss: 0.1052\n",
      "Epoch 32/50\n",
      "54000/54000 [==============================] - 2s 37us/sample - loss: 0.0787 - val_loss: 0.1042\n",
      "Epoch 33/50\n",
      "54000/54000 [==============================] - 2s 39us/sample - loss: 0.0765 - val_loss: 0.1043\n",
      "Epoch 34/50\n",
      "54000/54000 [==============================] - 2s 38us/sample - loss: 0.0745 - val_loss: 0.1038\n",
      "Epoch 35/50\n",
      "54000/54000 [==============================] - 2s 39us/sample - loss: 0.0724 - val_loss: 0.1035\n",
      "Epoch 36/50\n",
      "54000/54000 [==============================] - 2s 39us/sample - loss: 0.0706 - val_loss: 0.1037\n",
      "Epoch 37/50\n",
      "54000/54000 [==============================] - 2s 38us/sample - loss: 0.0686 - val_loss: 0.1038\n",
      "Epoch 38/50\n",
      "54000/54000 [==============================] - 2s 38us/sample - loss: 0.0668 - val_loss: 0.1029\n",
      "Epoch 39/50\n",
      "54000/54000 [==============================] - 2s 38us/sample - loss: 0.0652 - val_loss: 0.1022\n",
      "Epoch 40/50\n",
      "54000/54000 [==============================] - 2s 39us/sample - loss: 0.0634 - val_loss: 0.1023\n",
      "Epoch 41/50\n",
      "54000/54000 [==============================] - 2s 39us/sample - loss: 0.0618 - val_loss: 0.1024\n",
      "Epoch 42/50\n",
      "54000/54000 [==============================] - 2s 38us/sample - loss: 0.0601 - val_loss: 0.1028\n",
      "Epoch 43/50\n",
      "54000/54000 [==============================] - 2s 38us/sample - loss: 0.0587 - val_loss: 0.1035\n",
      "Epoch 44/50\n",
      "54000/54000 [==============================] - 2s 38us/sample - loss: 0.0573 - val_loss: 0.1029\n",
      "Epoch 45/50\n",
      "54000/54000 [==============================] - 2s 39us/sample - loss: 0.0557 - val_loss: 0.1019\n",
      "Epoch 46/50\n",
      "54000/54000 [==============================] - 2s 39us/sample - loss: 0.0544 - val_loss: 0.1030\n",
      "Epoch 47/50\n",
      "54000/54000 [==============================] - 2s 41us/sample - loss: 0.0530 - val_loss: 0.1032\n",
      "Epoch 48/50\n",
      "54000/54000 [==============================] - 2s 39us/sample - loss: 0.0517 - val_loss: 0.1032\n",
      "Epoch 49/50\n",
      "54000/54000 [==============================] - 2s 39us/sample - loss: 0.0504 - val_loss: 0.1040\n",
      "Epoch 50/50\n",
      "54000/54000 [==============================] - 2s 39us/sample - loss: 0.0492 - val_loss: 0.1030\n"
     ]
    }
   ],
   "source": [
    "history = model.fit(X_train_centered, y_train_onehot,\n",
    "                   batch_size = 64, epochs = 50,\n",
    "                   verbose = 1, validation_split = 0.1) #Use verbose=1 to follow the optimization of the cost function"
   ]
  },
  {
   "cell_type": "code",
   "execution_count": 56,
   "metadata": {},
   "outputs": [
    {
     "name": "stdout",
     "output_type": "stream",
     "text": [
      "60000/60000 [==============================] - 1s 23us/sample\n",
      "First 3 predictions:  [5 0 4]\n"
     ]
    }
   ],
   "source": [
    "#we can use the predict_classes method to return the classl labels directly as integers.\n",
    "y_train_pred = model.predict_classes(X_train_centered, verbose = 1)\n",
    "print('First 3 predictions: ', y_train_pred[:3])"
   ]
  },
  {
   "cell_type": "code",
   "execution_count": 57,
   "metadata": {},
   "outputs": [
    {
     "name": "stdout",
     "output_type": "stream",
     "text": [
      "First 3 predictions:  [5 0 4]\n",
      "Training accuracy: 98.81%\n",
      "Test accuracy: 96.27%\n"
     ]
    }
   ],
   "source": [
    "#print model accuracy on training and test sets\n",
    "y_train_pred = model.predict_classes(X_train_centered, verbose = 0)\n",
    "correct_preds = np.sum(y_train == y_train_pred, axis = 0)\n",
    "train_acc = correct_preds / y_train.shape[0]\n",
    "\n",
    "print('First 3 predictions: ', y_train_pred[:3])\n",
    "print('Training accuracy: %.2f%%' % (train_acc * 100))\n",
    "\n",
    "y_test_pred = model.predict_classes(X_test_centered, verbose = 0)\n",
    "correct_preds = np.sum(y_test == y_test_pred, axis = 0)\n",
    "test_acc = correct_preds / y_test.shape[0]\n",
    "print('Test accuracy: %.2f%%' % (test_acc * 100))\n"
   ]
  },
  {
   "cell_type": "code",
   "execution_count": 60,
   "metadata": {},
   "outputs": [
    {
     "data": {
      "image/png": "[encoded data removed]",
      "text/plain": [
       "<Figure size 432x288 with 1 Axes>"
      ]
     },
     "metadata": {},
     "output_type": "display_data"
    }
   ],
   "source": [
    "## Choosing activation functions for multilayer networks.\n",
    "# Tanh has a wider range of possible values [-1,1] compared to sigmoid [0,1]; can sometims improve convergence\n",
    "import matplotlib.pyplot as plt\n",
    "\n",
    "def tanh(z): #also available als np.tanh()\n",
    "    e_p = np.exp(z)\n",
    "    e_m = np.exp(-z)\n",
    "    return (e_p - e_m) / (e_p + e_m)\n",
    "\n",
    "def logistic(z): #also available als expit() from scipy.special\n",
    "    return 1.0 / (1.0 + np.exp(-z))\n",
    "\n",
    "z = np.arange(-5,5,0.005)\n",
    "log_act = logistic(z)\n",
    "tanh_act = tanh(z)\n",
    "plt.ylim([-1.5,1.5])\n",
    "plt.xlabel('net input $z$')\n",
    "plt.ylabel('activation $\\phi(z)$')\n",
    "plt.axhline(1, color = 'black', linestyle = ':')\n",
    "plt.axhline(0.5, color = 'black', linestyle = ':')\n",
    "plt.axhline(0, color = 'black', linestyle = ':')\n",
    "plt.axhline(-0.5, color = 'black', linestyle = ':')\n",
    "plt.axhline(-1, color = 'black', linestyle = ':')\n",
    "plt.plot(z, tanh_act,\n",
    "        linewidth = 3, linestyle = '--', label = 'tanh')\n",
    "plt.plot(z, log_act,\n",
    "        linewidth = 3, label = 'logistic')\n",
    "plt.legend(loc = 'lower right')\n",
    "plt.tight_layout()\n",
    "plt.show()"
   ]
  },
  {
   "cell_type": "code",
   "execution_count": null,
   "metadata": {},
   "outputs": [],
   "source": []
  }
 ],
 "metadata": {
  "kernelspec": {
   "display_name": "Python 3",
   "language": "python",
   "name": "python3"
  },
  "language_info": {
   "codemirror_mode": {
    "name": "ipython",
    "version": 3
   },
   "file_extension": ".py",
   "mimetype": "text/x-python",
   "name": "python",
   "nbconvert_exporter": "python",
   "pygments_lexer": "ipython3",
   "version": "3.6.5"
  }
 },
 "nbformat": 4,
 "nbformat_minor": 2
}
